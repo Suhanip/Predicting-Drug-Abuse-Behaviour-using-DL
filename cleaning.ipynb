{
 "cells": [
  {
   "cell_type": "code",
   "execution_count": 1,
   "metadata": {},
   "outputs": [],
   "source": [
    "import nltk"
   ]
  },
  {
   "cell_type": "code",
   "execution_count": 2,
   "metadata": {},
   "outputs": [
    {
     "name": "stdout",
     "output_type": "stream",
     "text": [
      "showing info https://raw.githubusercontent.com/nltk/nltk_data/gh-pages/index.xml\n"
     ]
    },
    {
     "data": {
      "text/plain": [
       "True"
      ]
     },
     "execution_count": 2,
     "metadata": {},
     "output_type": "execute_result"
    }
   ],
   "source": [
    "#nltk.download()"
   ]
  },
  {
   "cell_type": "code",
   "execution_count": 2,
   "metadata": {},
   "outputs": [],
   "source": [
    "from nltk.stem import PorterStemmer\n",
    "from nltk.stem import LancasterStemmer\n",
    "from nltk.tokenize import sent_tokenize, word_tokenize\n",
    "from nltk.stem import WordNetLemmatizer"
   ]
  },
  {
   "cell_type": "code",
   "execution_count": 3,
   "metadata": {},
   "outputs": [],
   "source": [
    "#create an object of class PorterStemmer\n",
    "porter = PorterStemmer()\n",
    "lancaster=LancasterStemmer()\n",
    "wordnet_lemmatizer = WordNetLemmatizer()"
   ]
  },
  {
   "cell_type": "code",
   "execution_count": 4,
   "metadata": {},
   "outputs": [],
   "source": [
    "from nltk.tokenize import sent_tokenize, word_tokenize\n",
    "def lemSentence(sentence):\n",
    "    punctuations=\"?:!.,;ï»\"\n",
    "    token_words=word_tokenize(sentence)\n",
    "    stem_sentence=[]\n",
    "    for word in token_words:\n",
    "        if word in punctuations or len(word)<3:\n",
    "            #token_words.remove(word)\n",
    "            continue\n",
    "        wrd = wordnet_lemmatizer.lemmatize(word, pos=\"v\")\n",
    "        stem_sentence.append(wrd)\n",
    "        stem_sentence.append(\" \")\n",
    "    return \"\".join(stem_sentence)"
   ]
  },
  {
   "cell_type": "code",
   "execution_count": 5,
   "metadata": {},
   "outputs": [],
   "source": [
    "def deEmoji(instr):\n",
    "    return instr.encode('ascii','ignore').decode('ascii')"
   ]
  },
  {
   "cell_type": "code",
   "execution_count": 6,
   "metadata": {},
   "outputs": [],
   "source": [
    "# code for one user\n",
    "'''\n",
    "import json\n",
    "import pandas as pd\n",
    "file = open(\"sample/happy.json\",\"r\",encoding='utf-8')\n",
    "data = json.loads(file.read())\n",
    "file.close()\n",
    "for tweet in data['tweets']:\n",
    "    tweet = deEmoji(tweet)\n",
    "    txt = []\n",
    "    tw2 = tweet.split(\" \")\n",
    "    for i in tw2:\n",
    "        if '\\n' in i:\n",
    "            txt1 = \"\"\n",
    "            for k in range(len(i)):\n",
    "                if i[k] != '\\n':\n",
    "                    txt1 += i[k]\n",
    "            i = txt1\n",
    "        if 'https' in i or '@' in i:\n",
    "            continue\n",
    "        else:\n",
    "            txt.append(i)\n",
    "    tweet = \" \".join(txt)\n",
    "    file = open(\"sample/csp.txt\",\"a\",encoding='utf-8')\n",
    "    x = lemSentence(tweet)\n",
    "    file.write(x+'\\n')\n",
    "file.close()\n",
    "'''"
   ]
  },
  {
   "cell_type": "code",
   "execution_count": 11,
   "metadata": {},
   "outputs": [],
   "source": [
    "# 200 tweets\n",
    "import json\n",
    "import pandas as pd\n",
    "for f in range(1,4):\n",
    "    file = open(\"sample/sp\"+str(f)+\".json\",\"r\",encoding='utf-8')\n",
    "    data = json.loads(file.read())\n",
    "    file.close()\n",
    "    for tweet in data['tweets']:\n",
    "        tweet = deEmoji(tweet)\n",
    "        txt = []\n",
    "        tw2 = tweet.split(\" \")\n",
    "        for i in tw2:\n",
    "            if '\\n' in i:\n",
    "                txt1 = \"\"\n",
    "                for k in range(len(i)):\n",
    "                    if i[k] != '\\n':\n",
    "                        txt1 += i[k]\n",
    "                i = txt1\n",
    "            if 'https' in i or '@' in i:\n",
    "                continue\n",
    "            else:\n",
    "                txt.append(i)\n",
    "        tweet = \" \".join(txt)\n",
    "        file = open(\"sample/csp\"+str(f)+\".txt\",\"a\",encoding='utf-8')\n",
    "        x = lemSentence(tweet)\n",
    "        file.write(x+'\\n')\n",
    "    file.close()"
   ]
  },
  {
   "cell_type": "code",
   "execution_count": null,
   "metadata": {},
   "outputs": [],
   "source": []
  }
 ],
 "metadata": {
  "kernelspec": {
   "display_name": "Python 3",
   "language": "python",
   "name": "python3"
  },
  "language_info": {
   "codemirror_mode": {
    "name": "ipython",
    "version": 3
   },
   "file_extension": ".py",
   "mimetype": "text/x-python",
   "name": "python",
   "nbconvert_exporter": "python",
   "pygments_lexer": "ipython3",
   "version": "3.7.3"
  }
 },
 "nbformat": 4,
 "nbformat_minor": 4
}
