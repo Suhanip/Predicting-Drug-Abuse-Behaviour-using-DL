{
 "cells": [
  {
   "cell_type": "code",
   "execution_count": null,
   "metadata": {},
   "outputs": [],
   "source": [
    "import os\n",
    "import tweepy as tw\n",
    "import pandas as pd\n",
    "import json"
   ]
  },
  {
   "cell_type": "code",
   "execution_count": null,
   "metadata": {},
   "outputs": [],
   "source": [
    "consumer_key = \"CONSUMER_KEY\" \n",
    "consumer_secret = \"CONSUMER_SECRET_KEY\"\n",
    "access_token = \"TWITTER_ACCESS_TOKEN\"\n",
    "access_token_secret = \"TWITTER_ACCESS_SECRET_KEY\""
   ]
  },
  {
   "cell_type": "code",
   "execution_count": null,
   "metadata": {},
   "outputs": [],
   "source": [
    "auth = tw.OAuthHandler(consumer_key, consumer_secret)\n",
    "auth.set_access_token(access_token, access_token_secret)\n",
    "api = tw.API(auth, wait_on_rate_limit=True)"
   ]
  },
  {
   "cell_type": "code",
   "execution_count": null,
   "metadata": {
    "scrolled": true
   },
   "outputs": [],
   "source": [
    "# 'Princeton','MIT','MITstudents','Stanford', DukeU', 'UofCalifornia'\n",
    "#'TexasTech''Harvard','Yale','Cornell','UMich','JohnsHopkins'\n",
    "users = []\n",
    "flag = 624\n",
    "for college in users:\n",
    "    number_of_tweets = 200\n",
    "    date_since = \"2018-01-01\"\n",
    "    clg = 0\n",
    "    for user in tw.Cursor(api.followers, screen_name=college).items():\n",
    "        if api.get_user(user.screen_name).statuses_count < 500:\n",
    "            #print('fail')\n",
    "            continue\n",
    "        if clg >= 100:\n",
    "            break\n",
    "\n",
    "        username = user.screen_name\n",
    "        try:\n",
    "            tweets = api.user_timeline(screen_name=username,count=number_of_tweets,lang=\"en\",since=date_since)\n",
    "            w = 0\n",
    "            store = []\n",
    "            for tweet in tweets:\n",
    "                if (not tweet.retweeted) and ('RT @' not in tweet.text):\n",
    "                    store.append(tweet.text)\n",
    "                    w += 1\n",
    "            if w < 140:\n",
    "                continue\n",
    "\n",
    "            details = {}\n",
    "            details['screen name'] = username\n",
    "            details['no. of tweets'] = w\n",
    "            details['tweets'] = store\n",
    "            details = json.dumps(details, indent=4, sort_keys=False)\n",
    "            flag += 1\n",
    "            clg += 1\n",
    "            f = open(\"timeline/tweets\"+str(flag)+\".json\",\"a\",encoding='utf-8')\n",
    "            f.write(details)\n",
    "            f.close()\n",
    "            print(username,w,'pass')\n",
    "\n",
    "        except:\n",
    "            print(\"An exception occurred\")"
   ]
  },
  {
   "cell_type": "code",
   "execution_count": null,
   "metadata": {
    "scrolled": true
   },
   "outputs": [],
   "source": [
    "# To extract one timeline by screen-name\n",
    "#clg = 1\n",
    "number_of_tweets = 200\n",
    "date_since = \"2018-01-01\"\n",
    "\n",
    "username = 'HappySYFY'\n",
    "if api.get_user(username).statuses_count < 500:\n",
    "    print('fail')\n",
    "\n",
    "try:\n",
    "    tweets = api.user_timeline(screen_name=username,count=number_of_tweets,lang=\"en\",since=date_since)\n",
    "    w = 0\n",
    "    store = []\n",
    "    for tweet in tweets:\n",
    "        if (not tweet.retweeted) and ('RT @' not in tweet.text):\n",
    "            store.append(tweet.text)\n",
    "            w += 1\n",
    "    if w < 140:\n",
    "        print('less tweets',w)\n",
    "    details = {}\n",
    "    details['screen name'] = username\n",
    "    details['no. of tweets'] = w\n",
    "    details['tweets'] = store\n",
    "    details = json.dumps(details, indent=4, sort_keys=False)\n",
    "    clg += 1\n",
    "    f = open(\"sample/tl\"+str(clg)+\".json\",\"a\",encoding='utf-8')\n",
    "    f.write(details)\n",
    "    f.close()\n",
    "    print(username,w,'pass')\n",
    "\n",
    "except:\n",
    "    print(\"An exception occurred\")"
   ]
  },
  {
   "cell_type": "code",
   "execution_count": null,
   "metadata": {},
   "outputs": [],
   "source": []
  }
 ],
 "metadata": {
  "kernelspec": {
   "display_name": "Python 3",
   "language": "python",
   "name": "python3"
  },
  "language_info": {
   "codemirror_mode": {
    "name": "ipython",
    "version": 3
   },
   "file_extension": ".py",
   "mimetype": "text/x-python",
   "name": "python",
   "nbconvert_exporter": "python",
   "pygments_lexer": "ipython3",
   "version": "3.7.3"
  }
 },
 "nbformat": 4,
 "nbformat_minor": 4
}
