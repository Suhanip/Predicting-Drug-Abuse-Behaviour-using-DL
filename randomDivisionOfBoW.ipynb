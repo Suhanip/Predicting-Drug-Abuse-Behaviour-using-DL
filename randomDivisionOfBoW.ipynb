{
 "cells": [
  {
   "cell_type": "code",
   "execution_count": 15,
   "metadata": {},
   "outputs": [],
   "source": [
    "bow = ['drug','love','rock','roll','ass','crazy','impulsive','liquor','alcohol','dope','weed','marijuana','cocaine','sleeping','pills','party','money','heroin','beers','cheers','shots','nigga','suicide','criminal','drug','abuse','violence','strong','bipolar','lunatic','rehab','dopamine','compulsive','behaviour','abusive','gambling','drug','addiction','mental','illness','smoking','cigarette','smokers','alcoholism','morphine','ethanol','narcotics','methamphetamine','motor','activity','mental','disorders','nicotine','depression','stress','compulsion','tobacco','street','drugs','psychological','health','meth','sex','fuck','shit','ice','drug','alcoholism','bitch','vodka','gin','tequila','whisky','brandy','wine','booze','rum','dick','hookah','high','joint','overdose','hit','reefer','pill','playboy','re-up','possession','line','rush','LSD','cannabis','tripping','toke','spliff','bust','addictive','rehabilitate','antagonist','depressants','drug','misuse','downers','tranquilizers','intoxicants','obsession','opium','codeine','trigger','cigar','anti','obsessed','sad','tired','insane','energy','drink','stimulants','rave','illegal']"
   ]
  },
  {
   "cell_type": "code",
   "execution_count": 16,
   "metadata": {},
   "outputs": [
    {
     "data": {
      "text/plain": [
       "120"
      ]
     },
     "execution_count": 16,
     "metadata": {},
     "output_type": "execute_result"
    }
   ],
   "source": [
    "n = len(bow)\n",
    "n"
   ]
  },
  {
   "cell_type": "code",
   "execution_count": 17,
   "metadata": {},
   "outputs": [],
   "source": [
    "from random import randint\n",
    "\n",
    "def lcg_params(u, v):\n",
    "    diff = v - u\n",
    "    if diff < 4:\n",
    "         raise ValueError(\"Sorry, range must be at least 4.\")\n",
    "    m = 2 ** diff.bit_length()              # Modulus\n",
    "    a = (randint(1, (m >> 2) - 1) * 4) + 1  # Random odd integer, (a-1) divisible by 4\n",
    "    c = randint(3, m) | 1                   # Any odd integer will do\n",
    "    return (m, a, c, u, diff + 1)\n",
    "\n",
    "def generate_pseudorandom_sequence(rmin, rmax):\n",
    "    (m, a, c, offset, seqlength) = lcg_params(rmin, rmax)\n",
    "    x = 1         # Start with a seed value of 1\n",
    "    result = []   # Create empty list for output values\n",
    "    for i in range(seqlength):\n",
    "        # To generate numbers on the fly without storing them in an array,\n",
    "        # just run the following while loop to fetch a new number\n",
    "        while True:\n",
    "            x = (x * a + c) % m             # Iterate LCG until we get a value in the\n",
    "            if x < seqlength: break         # required range\n",
    "        result.append(x + offset)           # Add this value to the list\n",
    "    return result"
   ]
  },
  {
   "cell_type": "code",
   "execution_count": 18,
   "metadata": {},
   "outputs": [],
   "source": [
    "num = generate_pseudorandom_sequence(1, 120)"
   ]
  },
  {
   "cell_type": "code",
   "execution_count": 19,
   "metadata": {},
   "outputs": [],
   "source": [
    "import pandas as pd"
   ]
  },
  {
   "cell_type": "code",
   "execution_count": 20,
   "metadata": {},
   "outputs": [],
   "source": [
    "column_names = [\"word\", \"index\"]\n",
    "df = pd.DataFrame(columns = column_names)"
   ]
  },
  {
   "cell_type": "code",
   "execution_count": 22,
   "metadata": {},
   "outputs": [],
   "source": [
    "k = 0\n",
    "for i in bow:\n",
    "    new_row = {'word':i, 'index':num[k]}\n",
    "    df = df.append(new_row, ignore_index=True)\n",
    "    k += 1"
   ]
  },
  {
   "cell_type": "code",
   "execution_count": 35,
   "metadata": {},
   "outputs": [],
   "source": [
    "div1 = []\n",
    "div2 = []\n",
    "div3 = []\n",
    "div4 = []\n",
    "div5 = []\n",
    "div6 = []\n",
    "div7 = []\n",
    "div8 = []"
   ]
  },
  {
   "cell_type": "code",
   "execution_count": 36,
   "metadata": {},
   "outputs": [],
   "source": [
    "for i in df['index']:\n",
    "    if i in range(1,16):\n",
    "        div1.append(df['word'][i-1])\n",
    "    elif i in range(16,31):\n",
    "        div2.append(df['word'][i-1])  \n",
    "    elif i in range(31,46):\n",
    "        div3.append(df['word'][i-1]) \n",
    "    elif i in range(46,61):\n",
    "        div4.append(df['word'][i-1])\n",
    "    elif i in range(61,76):\n",
    "        div5.append(df['word'][i-1]) \n",
    "    elif i in range(76,91):\n",
    "        div6.append(df['word'][i-1]) \n",
    "    elif i in range(91,106):\n",
    "        div7.append(df['word'][i-1]) \n",
    "    else:\n",
    "        div8.append(df['word'][i-1]) "
   ]
  },
  {
   "cell_type": "code",
   "execution_count": 37,
   "metadata": {
    "scrolled": false
   },
   "outputs": [
    {
     "data": {
      "text/plain": [
       "['criminal',\n",
       " 'beers',\n",
       " 'heroin',\n",
       " 'shots',\n",
       " 'strong',\n",
       " 'suicide',\n",
       " 'nigga',\n",
       " 'party',\n",
       " 'drug',\n",
       " 'violence',\n",
       " 'abuse',\n",
       " 'cheers',\n",
       " 'bipolar',\n",
       " 'money',\n",
       " 'lunatic']"
      ]
     },
     "execution_count": 37,
     "metadata": {},
     "output_type": "execute_result"
    }
   ],
   "source": [
    "div2"
   ]
  },
  {
   "cell_type": "code",
   "execution_count": 38,
   "metadata": {},
   "outputs": [],
   "source": [
    "file = open('mybow.txt','a')\n",
    "file.write(\" \".join(div1)+'\\n')\n",
    "file.write(\" \".join(div2)+'\\n')\n",
    "file.write(\" \".join(div3)+'\\n')\n",
    "file.write(\" \".join(div4)+'\\n')\n",
    "file.write(\" \".join(div5)+'\\n')\n",
    "file.write(\" \".join(div6)+'\\n')\n",
    "file.write(\" \".join(div7)+'\\n')\n",
    "file.write(\" \".join(div8)+'\\n')\n",
    "file.close()"
   ]
  },
  {
   "cell_type": "code",
   "execution_count": null,
   "metadata": {},
   "outputs": [],
   "source": []
  }
 ],
 "metadata": {
  "kernelspec": {
   "display_name": "Python 3",
   "language": "python",
   "name": "python3"
  },
  "language_info": {
   "codemirror_mode": {
    "name": "ipython",
    "version": 3
   },
   "file_extension": ".py",
   "mimetype": "text/x-python",
   "name": "python",
   "nbconvert_exporter": "python",
   "pygments_lexer": "ipython3",
   "version": "3.7.3"
  }
 },
 "nbformat": 4,
 "nbformat_minor": 4
}
