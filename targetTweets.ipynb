{
 "cells": [
  {
   "cell_type": "code",
   "execution_count": 1,
   "metadata": {},
   "outputs": [],
   "source": [
    "import pandas as pd\n",
    "import json"
   ]
  },
  {
   "cell_type": "code",
   "execution_count": 17,
   "metadata": {},
   "outputs": [],
   "source": [
    "df = pd.read_csv('sdrug.csv')"
   ]
  },
  {
   "cell_type": "code",
   "execution_count": 18,
   "metadata": {},
   "outputs": [
    {
     "data": {
      "text/html": [
       "<div>\n",
       "<style scoped>\n",
       "    .dataframe tbody tr th:only-of-type {\n",
       "        vertical-align: middle;\n",
       "    }\n",
       "\n",
       "    .dataframe tbody tr th {\n",
       "        vertical-align: top;\n",
       "    }\n",
       "\n",
       "    .dataframe thead th {\n",
       "        text-align: right;\n",
       "    }\n",
       "</style>\n",
       "<table border=\"1\" class=\"dataframe\">\n",
       "  <thead>\n",
       "    <tr style=\"text-align: right;\">\n",
       "      <th></th>\n",
       "      <th>similarities</th>\n",
       "    </tr>\n",
       "  </thead>\n",
       "  <tbody>\n",
       "    <tr>\n",
       "      <th>0</th>\n",
       "      <td>0.622963</td>\n",
       "    </tr>\n",
       "    <tr>\n",
       "      <th>1</th>\n",
       "      <td>0.684231</td>\n",
       "    </tr>\n",
       "    <tr>\n",
       "      <th>2</th>\n",
       "      <td>0.625440</td>\n",
       "    </tr>\n",
       "    <tr>\n",
       "      <th>3</th>\n",
       "      <td>0.628278</td>\n",
       "    </tr>\n",
       "    <tr>\n",
       "      <th>4</th>\n",
       "      <td>0.606697</td>\n",
       "    </tr>\n",
       "    <tr>\n",
       "      <th>5</th>\n",
       "      <td>0.639472</td>\n",
       "    </tr>\n",
       "    <tr>\n",
       "      <th>6</th>\n",
       "      <td>0.630868</td>\n",
       "    </tr>\n",
       "    <tr>\n",
       "      <th>7</th>\n",
       "      <td>0.706996</td>\n",
       "    </tr>\n",
       "    <tr>\n",
       "      <th>8</th>\n",
       "      <td>0.572149</td>\n",
       "    </tr>\n",
       "    <tr>\n",
       "      <th>9</th>\n",
       "      <td>0.695768</td>\n",
       "    </tr>\n",
       "  </tbody>\n",
       "</table>\n",
       "</div>"
      ],
      "text/plain": [
       "   similarities\n",
       "0      0.622963\n",
       "1      0.684231\n",
       "2      0.625440\n",
       "3      0.628278\n",
       "4      0.606697\n",
       "5      0.639472\n",
       "6      0.630868\n",
       "7      0.706996\n",
       "8      0.572149\n",
       "9      0.695768"
      ]
     },
     "execution_count": 18,
     "metadata": {},
     "output_type": "execute_result"
    }
   ],
   "source": [
    "#df = df.transpose()\n",
    "#df = df[:-1]\n",
    "df"
   ]
  },
  {
   "cell_type": "code",
   "execution_count": 19,
   "metadata": {},
   "outputs": [],
   "source": [
    "file = open('summary.txt','r')"
   ]
  },
  {
   "cell_type": "code",
   "execution_count": 20,
   "metadata": {},
   "outputs": [],
   "source": [
    "lines = []\n",
    "for f in file:\n",
    "    lines.append(f)"
   ]
  },
  {
   "cell_type": "code",
   "execution_count": 21,
   "metadata": {},
   "outputs": [],
   "source": [
    "txt = \"\"\n",
    "for i in lines[0]:\n",
    "    if i not in ['[',']','(',')','\\n']:\n",
    "        txt += i"
   ]
  },
  {
   "cell_type": "code",
   "execution_count": 22,
   "metadata": {},
   "outputs": [],
   "source": [
    "lines[0] = txt"
   ]
  },
  {
   "cell_type": "code",
   "execution_count": 23,
   "metadata": {},
   "outputs": [],
   "source": [
    "lines[0] = lines[0].split(\",\")"
   ]
  },
  {
   "cell_type": "code",
   "execution_count": 24,
   "metadata": {},
   "outputs": [],
   "source": [
    "topics = []\n",
    "freq = []\n",
    "for i in range(1,len(lines[0]),2):\n",
    "    topics.append(lines[0][i-1])\n",
    "    freq.append(lines[0][i])"
   ]
  },
  {
   "cell_type": "code",
   "execution_count": 25,
   "metadata": {},
   "outputs": [],
   "source": [
    "df['topic'] = topics\n",
    "df['frequency'] = freq"
   ]
  },
  {
   "cell_type": "code",
   "execution_count": 26,
   "metadata": {},
   "outputs": [
    {
     "data": {
      "text/html": [
       "<div>\n",
       "<style scoped>\n",
       "    .dataframe tbody tr th:only-of-type {\n",
       "        vertical-align: middle;\n",
       "    }\n",
       "\n",
       "    .dataframe tbody tr th {\n",
       "        vertical-align: top;\n",
       "    }\n",
       "\n",
       "    .dataframe thead th {\n",
       "        text-align: right;\n",
       "    }\n",
       "</style>\n",
       "<table border=\"1\" class=\"dataframe\">\n",
       "  <thead>\n",
       "    <tr style=\"text-align: right;\">\n",
       "      <th></th>\n",
       "      <th>similarities</th>\n",
       "      <th>topic</th>\n",
       "      <th>frequency</th>\n",
       "    </tr>\n",
       "  </thead>\n",
       "  <tbody>\n",
       "    <tr>\n",
       "      <th>0</th>\n",
       "      <td>0.622963</td>\n",
       "      <td>'que'</td>\n",
       "      <td>0.034860197</td>\n",
       "    </tr>\n",
       "    <tr>\n",
       "      <th>1</th>\n",
       "      <td>0.684231</td>\n",
       "      <td>'pra'</td>\n",
       "      <td>0.021189468</td>\n",
       "    </tr>\n",
       "    <tr>\n",
       "      <th>2</th>\n",
       "      <td>0.625440</td>\n",
       "      <td>'meu'</td>\n",
       "      <td>0.014354105</td>\n",
       "    </tr>\n",
       "    <tr>\n",
       "      <th>3</th>\n",
       "      <td>0.628278</td>\n",
       "      <td>'hoje'</td>\n",
       "      <td>0.014354103</td>\n",
       "    </tr>\n",
       "    <tr>\n",
       "      <th>4</th>\n",
       "      <td>0.606697</td>\n",
       "      <td>'ser'</td>\n",
       "      <td>0.014354101</td>\n",
       "    </tr>\n",
       "    <tr>\n",
       "      <th>5</th>\n",
       "      <td>0.639472</td>\n",
       "      <td>'uma'</td>\n",
       "      <td>0.014354099</td>\n",
       "    </tr>\n",
       "    <tr>\n",
       "      <th>6</th>\n",
       "      <td>0.630868</td>\n",
       "      <td>'voc'</td>\n",
       "      <td>0.007518711</td>\n",
       "    </tr>\n",
       "    <tr>\n",
       "      <th>7</th>\n",
       "      <td>0.706996</td>\n",
       "      <td>'vai'</td>\n",
       "      <td>0.0075187082</td>\n",
       "    </tr>\n",
       "    <tr>\n",
       "      <th>8</th>\n",
       "      <td>0.572149</td>\n",
       "      <td>'dizer'</td>\n",
       "      <td>0.0075187082</td>\n",
       "    </tr>\n",
       "    <tr>\n",
       "      <th>9</th>\n",
       "      <td>0.695768</td>\n",
       "      <td>'segundo'</td>\n",
       "      <td>0.0075187082</td>\n",
       "    </tr>\n",
       "  </tbody>\n",
       "</table>\n",
       "</div>"
      ],
      "text/plain": [
       "   similarities       topic      frequency\n",
       "0      0.622963       'que'    0.034860197\n",
       "1      0.684231       'pra'    0.021189468\n",
       "2      0.625440       'meu'    0.014354105\n",
       "3      0.628278      'hoje'    0.014354103\n",
       "4      0.606697       'ser'    0.014354101\n",
       "5      0.639472       'uma'    0.014354099\n",
       "6      0.630868       'voc'    0.007518711\n",
       "7      0.706996       'vai'   0.0075187082\n",
       "8      0.572149     'dizer'   0.0075187082\n",
       "9      0.695768   'segundo'   0.0075187082"
      ]
     },
     "execution_count": 26,
     "metadata": {},
     "output_type": "execute_result"
    }
   ],
   "source": [
    "df"
   ]
  },
  {
   "cell_type": "code",
   "execution_count": 27,
   "metadata": {},
   "outputs": [],
   "source": [
    "words = []\n",
    "for i in range(1,len(lines)):\n",
    "    l = lines[i].split(\" \")\n",
    "    l.remove(l[0])\n",
    "    l[len(l)-1] = l[len(l)-1][:-1]\n",
    "    words.append(l)"
   ]
  },
  {
   "cell_type": "code",
   "execution_count": 28,
   "metadata": {},
   "outputs": [],
   "source": [
    "df['words'] = words"
   ]
  },
  {
   "cell_type": "code",
   "execution_count": 29,
   "metadata": {},
   "outputs": [
    {
     "data": {
      "text/html": [
       "<div>\n",
       "<style scoped>\n",
       "    .dataframe tbody tr th:only-of-type {\n",
       "        vertical-align: middle;\n",
       "    }\n",
       "\n",
       "    .dataframe tbody tr th {\n",
       "        vertical-align: top;\n",
       "    }\n",
       "\n",
       "    .dataframe thead th {\n",
       "        text-align: right;\n",
       "    }\n",
       "</style>\n",
       "<table border=\"1\" class=\"dataframe\">\n",
       "  <thead>\n",
       "    <tr style=\"text-align: right;\">\n",
       "      <th></th>\n",
       "      <th>similarities</th>\n",
       "      <th>topic</th>\n",
       "      <th>frequency</th>\n",
       "      <th>words</th>\n",
       "    </tr>\n",
       "  </thead>\n",
       "  <tbody>\n",
       "    <tr>\n",
       "      <th>0</th>\n",
       "      <td>0.622963</td>\n",
       "      <td>'que'</td>\n",
       "      <td>0.034860197</td>\n",
       "      <td>[que, uma, quem, quando, disso, ela, tambm, po...</td>\n",
       "    </tr>\n",
       "    <tr>\n",
       "      <th>1</th>\n",
       "      <td>0.684231</td>\n",
       "      <td>'pra'</td>\n",
       "      <td>0.021189468</td>\n",
       "      <td>[arcada, dentria, foi, posicionamento, carta, ...</td>\n",
       "    </tr>\n",
       "    <tr>\n",
       "      <th>2</th>\n",
       "      <td>0.625440</td>\n",
       "      <td>'meu'</td>\n",
       "      <td>0.014354105</td>\n",
       "      <td>[que, pra, isso, minha, bem, ministro, falas, ...</td>\n",
       "    </tr>\n",
       "    <tr>\n",
       "      <th>3</th>\n",
       "      <td>0.628278</td>\n",
       "      <td>'hoje'</td>\n",
       "      <td>0.014354103</td>\n",
       "      <td>[que, mandar, professores, vdeo, sempre, quise...</td>\n",
       "    </tr>\n",
       "    <tr>\n",
       "      <th>4</th>\n",
       "      <td>0.606697</td>\n",
       "      <td>'ser'</td>\n",
       "      <td>0.014354101</td>\n",
       "      <td>[pra, falta, ser, sobre, trabalhistas, populao...</td>\n",
       "    </tr>\n",
       "    <tr>\n",
       "      <th>5</th>\n",
       "      <td>0.639472</td>\n",
       "      <td>'uma'</td>\n",
       "      <td>0.014354099</td>\n",
       "      <td>[que, pra, meu, hoje, ser, uma, voc, vai, dize...</td>\n",
       "    </tr>\n",
       "    <tr>\n",
       "      <th>6</th>\n",
       "      <td>0.630868</td>\n",
       "      <td>'voc'</td>\n",
       "      <td>0.007518711</td>\n",
       "      <td>[que, com, tem, poltica, ideia, uma, terra, mi...</td>\n",
       "    </tr>\n",
       "    <tr>\n",
       "      <th>7</th>\n",
       "      <td>0.706996</td>\n",
       "      <td>'vai'</td>\n",
       "      <td>0.0075187082</td>\n",
       "      <td>[teu, mas, que, esse, sei, fao, gente, sigo, f...</td>\n",
       "    </tr>\n",
       "    <tr>\n",
       "      <th>8</th>\n",
       "      <td>0.572149</td>\n",
       "      <td>'dizer'</td>\n",
       "      <td>0.0075187082</td>\n",
       "      <td>[que, meu, pra, falar, ser, sobre, algo, cultu...</td>\n",
       "    </tr>\n",
       "    <tr>\n",
       "      <th>9</th>\n",
       "      <td>0.695768</td>\n",
       "      <td>'segundo'</td>\n",
       "      <td>0.0075187082</td>\n",
       "      <td>[msica, uma, sozinho, pizza, inteira, comi, be...</td>\n",
       "    </tr>\n",
       "  </tbody>\n",
       "</table>\n",
       "</div>"
      ],
      "text/plain": [
       "   similarities       topic      frequency  \\\n",
       "0      0.622963       'que'    0.034860197   \n",
       "1      0.684231       'pra'    0.021189468   \n",
       "2      0.625440       'meu'    0.014354105   \n",
       "3      0.628278      'hoje'    0.014354103   \n",
       "4      0.606697       'ser'    0.014354101   \n",
       "5      0.639472       'uma'    0.014354099   \n",
       "6      0.630868       'voc'    0.007518711   \n",
       "7      0.706996       'vai'   0.0075187082   \n",
       "8      0.572149     'dizer'   0.0075187082   \n",
       "9      0.695768   'segundo'   0.0075187082   \n",
       "\n",
       "                                               words  \n",
       "0  [que, uma, quem, quando, disso, ela, tambm, po...  \n",
       "1  [arcada, dentria, foi, posicionamento, carta, ...  \n",
       "2  [que, pra, isso, minha, bem, ministro, falas, ...  \n",
       "3  [que, mandar, professores, vdeo, sempre, quise...  \n",
       "4  [pra, falta, ser, sobre, trabalhistas, populao...  \n",
       "5  [que, pra, meu, hoje, ser, uma, voc, vai, dize...  \n",
       "6  [que, com, tem, poltica, ideia, uma, terra, mi...  \n",
       "7  [teu, mas, que, esse, sei, fao, gente, sigo, f...  \n",
       "8  [que, meu, pra, falar, ser, sobre, algo, cultu...  \n",
       "9  [msica, uma, sozinho, pizza, inteira, comi, be...  "
      ]
     },
     "execution_count": 29,
     "metadata": {},
     "output_type": "execute_result"
    }
   ],
   "source": [
    "df"
   ]
  },
  {
   "cell_type": "code",
   "execution_count": 30,
   "metadata": {
    "scrolled": false
   },
   "outputs": [
    {
     "name": "stdout",
     "output_type": "stream",
     "text": [
      "['teu', 'mas', 'que', 'esse', 'sei', 'fao', 'gente', 'sigo', 'fiz', 'vinho', 'yoga', 'roda', 'pouco', 'entrar', 'numa']\n"
     ]
    }
   ],
   "source": [
    "tweets = []\n",
    "matchwrds = []\n",
    "for i in range(len(df)):\n",
    "    if df['similarities'][i] >= 0.7:\n",
    "        for word in df['words'][i]:\n",
    "            matchwrds.append(word)\n",
    "print(matchwrds)\n",
    "file = open('csp.txt','r',encoding='utf-8')\n",
    "for line in file:\n",
    "    for word in matchwrds:\n",
    "        if word in line.lower():\n",
    "            if line not in tweets:\n",
    "                tweets.append(line)"
   ]
  },
  {
   "cell_type": "code",
   "execution_count": 2,
   "metadata": {
    "scrolled": false
   },
   "outputs": [
    {
     "data": {
      "text/plain": [
       "['With stuff like this you can SeeHappy all the time Celebrate season with exclusive gear from the HAPPY Shop \\n',\n",
       " 'ThatMomentWhen you realize Saturday AND the whole second season HAPPY available online amp Demand \\n',\n",
       " 'Nick get that FridayFeeling and wan spread Tag someone that need catch HAPPY Season now \\n',\n",
       " \"Sonny still n't stop think about the HAPPY Season Finale See what mean catchin online amp Deman \\n\",\n",
       " 'be partner be That for HAPPY Season Thanks for join this wild and insane ride \\n',\n",
       " 'Normal strong word SeeHappy \\n',\n",
       " 'this you right now SeeHappy \\n',\n",
       " 'When have ANYTHING ever not be about Sonny SeeHappy \\n',\n",
       " 'about DOWN West Coast The HAPPY Season Finale start NOW SeeHappy \\n',\n",
       " \"West coast you n't wait take big swig the HAPPY Season Finale MINUTES 10PM \\n\",\n",
       " \"West coast Happy flyin straight the Season Finale ONE HOUR 10PM the SeeHappy button you 're rid with him \\n\",\n",
       " 'Well say partner SeeHappy \\n',\n",
       " 'okay that person pal SeeHappy \\n',\n",
       " 'pretty insane hour SeeHappy \\n',\n",
       " \"could n't have say better ourselves And you can binge the whole first \\n\",\n",
       " 'Yup SeeHappy \\n',\n",
       " 'SeeHappy \\n',\n",
       " 'be partner be That for HAPPY Season Thanks for join this wild and insane ride \\n',\n",
       " 'You get that right SeeHappy \\n',\n",
       " 'Well course SeeHappy \\n',\n",
       " 'You take the word right out our mouth SeeHappy \\n',\n",
       " 'SeeHappy \\n',\n",
       " 'Hap need use those big ears for something SeeHappy \\n',\n",
       " \"'re glad have you this journey with Thanks partner SeeHappy \\n\",\n",
       " 'might not the right ones ask ... SeeHappy \\n',\n",
       " 'The one and only SeeHappy \\n',\n",
       " 'about down that what SeeHappy \\n',\n",
       " 'SeeHappy \\n',\n",
       " 'Well Nick sure do SeeHappy \\n',\n",
       " \"Who have n't SeeHappy \\n\",\n",
       " 'That Orcus always have SOMETHING his sleeve SeeHappy \\n',\n",
       " 'Normal strong word SeeHappy \\n',\n",
       " 'SeeHappy \\n',\n",
       " 'basically there ex-cop turn degenerate hitman who can now see his estrange daughter \\n',\n",
       " \"Something tell Nick should 've read the fine print SeeHappy \\n\",\n",
       " 'SeeHappy \\n',\n",
       " 'Someone check that SeeHappy \\n',\n",
       " \"n't you worry partner 're not do yet SeeHappy \\n\",\n",
       " 'The best SeeHappy \\n',\n",
       " 'SeeHappy \\n',\n",
       " \"And 're only halfway do partner n't turn off that quite yet SeeHappy \\n\",\n",
       " 'Innocence be nice while last SeeHappy \\n',\n",
       " 'this you right now SeeHappy \\n',\n",
       " 'You can say that again like hundred more time SeeHappy \\n',\n",
       " \"tell you this be go insane finale 've get plenty leave for you SeeHappy \\n\",\n",
       " \"'ve say before and 'll say again n't mess with Amanda SeeHappy \\n\",\n",
       " 'You can always count good Hap SeeHappy \\n',\n",
       " 'You can say that again partner SeeHappy \\n',\n",
       " \"n't that what best friends be for SeeHappy \\n\",\n",
       " 'time for our little blue buddy his thing SeeHappy \\n',\n",
       " 'They say Nick Sax strength grow ten time that day SeeHappy \\n',\n",
       " 'Hailey get some skills SeeHappy \\n',\n",
       " \"You 're not wrong partner You 're not wrong SeeHappy \\n\",\n",
       " 'Tapes tap and more tap SeeHappy \\n',\n",
       " 'Sonny have shame SeeHappy \\n',\n",
       " 'The Eggtacular finally upon SeeHappy \\n',\n",
       " 'When have ANYTHING ever not be about Sonny SeeHappy \\n',\n",
       " 'You get that right SeeHappy \\n',\n",
       " 'Who wear better careful how you answer ... SeeHappy \\n',\n",
       " 'Messed guy Smoothie That put ... lightly SeeHappy \\n',\n",
       " 'Smoothie will ANYTHING for mind game SeeHappy \\n',\n",
       " 'Shhh might hear you SeeHappy \\n',\n",
       " 'Sonny settle for nothing but the REAL thing SeeHappy \\n',\n",
       " 'Thank YOU for be such great fan this season SeeHappy \\n',\n",
       " 'shuck you know how make smile Thanks partner SeeHappy \\n',\n",
       " 'Classic Smoothie SeeHappy \\n',\n",
       " \"Something twist 're sure SeeHappy \\n\",\n",
       " 'And the rest history Bloody degenerate history SeeHappy \\n',\n",
       " 'You get that right partner SeeHappy \\n',\n",
       " 'LET THIS PAL SeeHappy \\n',\n",
       " \"That what 're talk about Thanks for rid with for tonight finale partner SeeHappy \\n\",\n",
       " 'This finale will give you ALL the inspiration you need You ready pal SeeHappy \\n',\n",
       " \"You 'll probably say way more than time tonight finale Trust You ready pal SeeHappy \\n\",\n",
       " 'about DOWN The HAPPY Season Finale start NOW SeeHappy \\n',\n",
       " \"'re glad you 've get the right priorities partner Thanks for ridin with tonight SeeHappy \\n\",\n",
       " 'You sure know how make imaginary friend blush See you for the finale tonight partner SeeHappy \\n',\n",
       " \"'re glad you 're comin along for ride partner Tonight finale gon blow your mind SeeHappy \\n\",\n",
       " 'You can say that again partner Are you ready for how insane tonight finale gon get \\n',\n",
       " \"n't sad partner glad about all the insanity come your tonight \\n\",\n",
       " \"'re almost there partner See you soon SeeHappy \\n\",\n",
       " 'Tonight Eggtacular will FULL surprise See you there partner SeeHappy \\n',\n",
       " 'go down all right pal Get ready for maximum insanity tonight SeeHappy \\n',\n",
       " \"Nobody partner but n't worry There plenty more absurdity comin your way tonight \\n\",\n",
       " 'Set course for complete and total madness SeeHappy \\n',\n",
       " \"Time fly when you 're the most insane show See you soon pal SeeHappy \\n\",\n",
       " \"Deep down who DOES N'T want little mayhem for their Wednesday See you soon partner \\n\",\n",
       " 'bird plane Happy the horse course SeeHappy \\n',\n",
       " 'Nobody get big heart our little blue pal there See you for the Season Finale toni \\n',\n",
       " 'Amanda NOT mess around The Season Finale HAPPY start MINUTES 10/9c \\n',\n",
       " \"There n't imaginary couple quite like them See you soon partner SeeHappy \\n\",\n",
       " 'about get even crazier and weirder Just you wait SeeHappy \\n',\n",
       " 'Wednesday That today Are you ready for the craziest episode the history begin \\n',\n",
       " \"Well now you 're just makin blush Thanks partner SeeHappy \\n\",\n",
       " 'Can just fast forward 10PM already SeeHappy \\n',\n",
       " 'About DOWN You ready partner SeeHappy \\n',\n",
       " \"'ll see you there partner SeeHappy \\n\",\n",
       " 'The time for complete and utter insanity almost upon Are you ready pal SeeHappy \\n',\n",
       " 'love you too pal and the Saxiest man know Hope see you tonight for \\n',\n",
       " '\\n',\n",
       " 'When you can SeeHappy EVERYBODY win Are you two ready for tonight finale \\n',\n",
       " \"You 'll find out soon enough partner See you there SeeHappy \\n\",\n",
       " \"know hurt partner But the good news 've get plenty craziness comin \\n\",\n",
       " \"you n't wait take big swig the HAPPY Season Finale ONE HOUR 10/9c \\n\",\n",
       " 'Thank YOU for be such great fan this season SeeHappy \\n',\n",
       " 'You say that now ... SeeHappy \\n',\n",
       " 'Turn that frown upside down partner There still PLENTY \\n',\n",
       " \"Happy flyin straight the Season Finale TONIGHT 10/9c the SeeHappy button you 're rid with him \\n\",\n",
       " 'Amazing understatement partner gon blow your mind See you tonight SeeHappy \\n',\n",
       " 'Best Night Ever SeeHappy \\n',\n",
       " \"You capture our little blue friend perfectly that could n't help but scream with glee See you \\n\",\n",
       " 'SeeHappy \\n',\n",
       " 'You can say that again pal SeeHappy \\n',\n",
       " \"You 're makin smile wider than our little blue pal here See you tonight for the Season Finale \\n\",\n",
       " 'Where do the Smoothie end and the Nick begin The HAPPY Season Finale begin TONIGHT 10/9c \\n',\n",
       " 'Nobody pal Nobody SeeHappy \\n',\n",
       " \"You should partner You 're gon crack smile ten SeeHappy \\n\",\n",
       " 'true SeeHappy \\n',\n",
       " \"Sonny Eggtacular nearly here and trust you n't want miss it.The HAPPY Season Finale TOMORROW \\n\",\n",
       " 'The season finale favorite episode Find out why WEDNESDAY 10/9c SeeHappy \\n',\n",
       " \"you think last week be crazy just wait see what 're cook the season finale SeeHappy WEDNESD \\n\",\n",
       " \"Who you know that would HAPPY superfan they just catch Tag 'em say they can SeeHappy right \\n\",\n",
       " \"Even n't control ourselves when realize the latest HAPPY episodes be available online and Demand \\n\",\n",
       " 'Especially for families psychos and lunatics SeeHappy \\n',\n",
       " 'Twisted kind our thing SeeHappy \\n',\n",
       " \"Now you 're makin blush See you Wednesday partner SeeHappy \\n\",\n",
       " 'Tap see how PUMPED these fan amp I.F be for HAPPY And make sure catch this weekend before the season \\n',\n",
       " 'This be fun day set for now online and Demand \\n',\n",
       " 'The all-new HAPPY episode heat people SeeHappy now online and Demand \\n',\n",
       " \"n't give yet There still ONE MORE episode leave Catch the season finale next WEDNESDAY 10/9c \\n\",\n",
       " 'Sorry Amanda There reason they call him SeeHappy \\n',\n",
       " 'Wishees get back SeeHappy \\n',\n",
       " \"n't f*** with Amanda SeeHappy \\n\",\n",
       " 'There more than enough madness around.West Coast new episode HAPPY start NOW SeeHappy \\n',\n",
       " \"Sonny n't wait see you tonight.West Coast SeeHappy ONE HOUR 10/9c \\n\",\n",
       " \"n't give yet There still ONE MORE episode leave Catch the season finale next WEDNESDAY 10/9c \\n\",\n",
       " 'She earn SeeHappy \\n',\n",
       " 'cathartic SeeHappy \\n',\n",
       " 'Merry should make that her bumper sticker SeeHappy \\n',\n",
       " 'cathartic SeeHappy \\n',\n",
       " 'Sorry Amanda There reason they call him SeeHappy \\n',\n",
       " 'Thought hop SeeHappy \\n',\n",
       " 'SeeHappy \\n',\n",
       " 'But what will Orcus with all that soul powder SeeHappy \\n',\n",
       " 'SeeHappy \\n',\n",
       " 'Are you ever expect what you see here SeeHappy \\n',\n",
       " 'Make that big bold note SeeHappy \\n',\n",
       " 'Wishees get back SeeHappy \\n',\n",
       " 'When you SeeHappy anything possible \\n',\n",
       " \"n't mess with Amanda SeeHappy \\n\",\n",
       " \"n't all ... SeeHappy \\n\",\n",
       " 'Just normal Wednesday night for SeeHappy \\n',\n",
       " 'SeeHappy \\n',\n",
       " 'Yeah that kind our thing SeeHappy \\n',\n",
       " 'Happy learn lessons love all over the place Tag someone who need lil right now \\n',\n",
       " 'God a**holes right SeeHappy \\n',\n",
       " 'little too much for Orcus like SeeHappy \\n',\n",
       " 'fall into something pal SeeHappy \\n',\n",
       " \"n't f*** with Amanda SeeHappy \\n\",\n",
       " 'You have idea SeeHappy \\n',\n",
       " 'Just Wednesdays SeeHappy \\n',\n",
       " 'Nick more self-medication kind guy SeeHappy \\n',\n",
       " 'just be shit out interdimensional alien a**hole SeeHappy \\n',\n",
       " 'There be go many emotions this hour Matthew SeeHappy \\n',\n",
       " 'There more than enough madness around new episode HAPPY start NOW SeeHappy \\n',\n",
       " 'Buckle Alicia SeeHappy \\n',\n",
       " 'Bottoms partner all-new episode HAPPY start MINUTES 10/9c SeeHappy \\n',\n",
       " \"Sonny n't wait see you tonight SeeHappy ONE HOUR 10/9c \\n\",\n",
       " 'all prepare for the mayhem differently SeeHappy TONIGHT 10/9c \\n',\n",
       " 'Nick and Orcus will probably get along ... right SeeHappy TOMORROW 10/9c \\n',\n",
       " \"There better cure for bad day hope you 're feelin better partner \\n\",\n",
       " \"You n't regret partner SeeHappy \\n\",\n",
       " 'Sounds like our kind I.F SeeHappy \\n',\n",
       " \"matter how bad your Monday go least you 're not comin out the wrong end wishee MondayMotivation \\n\",\n",
       " 'Amanda about increase Earth alien population lot. SeeHappy all-new episode WEDNESDAY 10/9c \\n',\n",
       " 'There one bottom that the top its game.See the second season HAPPY now \\n',\n",
       " \"Somehow Nick come out that smell better ... .If you 're not sure SeeHappy online and Demand \\n\",\n",
       " 'What you wear the outside reflection what the inside. SeeHappy online and Demand right now \\n',\n",
       " 'SeeHappy \\n',\n",
       " 'Cheers pal SeeHappy \\n',\n",
       " 'Weve get you partner SeeHappy \\n',\n",
       " 'SeeHappy \\n',\n",
       " 'Smoothie full surprise What your favorite moment his SeeHappy \\n']"
      ]
     },
     "execution_count": 2,
     "metadata": {},
     "output_type": "execute_result"
    }
   ],
   "source": [
    "tweets"
   ]
  },
  {
   "cell_type": "code",
   "execution_count": 32,
   "metadata": {},
   "outputs": [
    {
     "data": {
      "text/plain": [
       "70"
      ]
     },
     "execution_count": 32,
     "metadata": {},
     "output_type": "execute_result"
    }
   ],
   "source": [
    "trgtw = len(tweets)\n",
    "trgtw"
   ]
  },
  {
   "cell_type": "code",
   "execution_count": 33,
   "metadata": {},
   "outputs": [],
   "source": [
    "file = open(\"sp.json\",\"r\",encoding='utf-8')\n",
    "data = json.loads(file.read())\n",
    "file.close()\n",
    "screen_name = data['screen name']\n",
    "total_tw = data['no. of tweets']"
   ]
  },
  {
   "cell_type": "code",
   "execution_count": 34,
   "metadata": {},
   "outputs": [
    {
     "name": "stdout",
     "output_type": "stream",
     "text": [
      "@ojeanbarroso\n",
      "0.49295774647887325\n"
     ]
    }
   ],
   "source": [
    "print('@'+screen_name)\n",
    "tratio = trgtw/total_tw\n",
    "print(tratio)"
   ]
  },
  {
   "cell_type": "code",
   "execution_count": 5,
   "metadata": {},
   "outputs": [],
   "source": [
    "store = pd.DataFrame()"
   ]
  },
  {
   "cell_type": "code",
   "execution_count": 6,
   "metadata": {},
   "outputs": [],
   "source": [
    "store['Target tweets'] = tweets"
   ]
  },
  {
   "cell_type": "code",
   "execution_count": 7,
   "metadata": {},
   "outputs": [],
   "source": [
    "store.to_csv('trgtw2.csv')"
   ]
  },
  {
   "cell_type": "code",
   "execution_count": null,
   "metadata": {},
   "outputs": [],
   "source": []
  }
 ],
 "metadata": {
  "kernelspec": {
   "display_name": "Python 3",
   "language": "python",
   "name": "python3"
  },
  "language_info": {
   "codemirror_mode": {
    "name": "ipython",
    "version": 3
   },
   "file_extension": ".py",
   "mimetype": "text/x-python",
   "name": "python",
   "nbconvert_exporter": "python",
   "pygments_lexer": "ipython3",
   "version": "3.7.3"
  }
 },
 "nbformat": 4,
 "nbformat_minor": 4
}
